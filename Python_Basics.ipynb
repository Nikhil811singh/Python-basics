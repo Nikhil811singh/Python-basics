{
  "nbformat": 4,
  "nbformat_minor": 0,
  "metadata": {
    "colab": {
      "provenance": []
    },
    "kernelspec": {
      "name": "python3",
      "display_name": "Python 3"
    },
    "language_info": {
      "name": "python"
    }
  },
  "cells": [
    {
      "cell_type": "markdown",
      "source": [
        "Python Basics  \n"
      ],
      "metadata": {
        "id": "eNRMmio7-9Il"
      }
    },
    {
      "cell_type": "markdown",
      "source": [
        "1 . What is Python, and why is it popular ?\n",
        "   - python is a popular programming lanuguage because it is easy to learn and\n",
        "     versatile and can be used for mor different tasks."
      ],
      "metadata": {
        "id": "ITx-DXl0_K2d"
      }
    },
    {
      "cell_type": "markdown",
      "source": [
        "2 . What is an interpreter in Python ?\n",
        "   - python interpreter is a computer program that read and executes python code line by line."
      ],
      "metadata": {
        "id": "AIBveb2v_Gxl"
      }
    },
    {
      "cell_type": "markdown",
      "source": [
        "3. What are pre-defined keywords in Python ?\n",
        "  - predefined keywords in python are reserved words that have there specific meanings and uses which cannot be changed."
      ],
      "metadata": {
        "id": "nl6F1ExlBBIl"
      }
    },
    {
      "cell_type": "markdown",
      "source": [
        "4 . Can keywords be used as variable names ?\n",
        "   - no keywords cannot be used as variables name because they have special meanings and define the language's of syntax rules and structure so they cannot be use as variables names."
      ],
      "metadata": {
        "id": "W4ZD71n4Bvqk"
      }
    },
    {
      "cell_type": "markdown",
      "source": [
        "5. What is mutability in Python ?\n",
        "   - the ability to change the value of an object after it has been created."
      ],
      "metadata": {
        "id": "hqOUIyklDAQm"
      }
    },
    {
      "cell_type": "markdown",
      "source": [
        "6 . Why are lists mutable, but tuples are immutable ?\n",
        "   - tuples cannot be modified becuase of more memory efficient compared to lists so tuples cannot be changed after they are created but lists can be modified ."
      ],
      "metadata": {
        "id": "wCdm0aEoD-9G"
      }
    },
    {
      "cell_type": "markdown",
      "source": [
        "7. What is the difference between “==” and “is” operators in Python ?\n",
        "  - the == operator is used to compare the equality of objects and the is \"is\"  compares the identify of the objects.\n",
        "\n",
        "\n",
        "\n",
        "\n",
        "\n"
      ],
      "metadata": {
        "id": "AubUzQVKD76T"
      }
    },
    {
      "cell_type": "markdown",
      "source": [
        "8. What are logical operators in Python?\n",
        "  - in python logical operaters are used to combine multiple conditions together and evaluate them as a single boolean expressions."
      ],
      "metadata": {
        "id": "e77sEA98GIP0"
      }
    },
    {
      "cell_type": "markdown",
      "source": [
        "9. What is type casting in Python ?\n",
        "  - type casting in python is the process of converting a variables data type from one type to another ."
      ],
      "metadata": {
        "id": "5SpSWnHAG9YU"
      }
    },
    {
      "cell_type": "markdown",
      "source": [
        "10. What is the difference between implicit and explicit type casting ?\n",
        "  - the implicit type casting happens automatically while the explicit type casting done manually by the programmer.  "
      ],
      "metadata": {
        "id": "E4WWtNleG-5a"
      }
    },
    {
      "cell_type": "markdown",
      "source": [
        "11. What is the purpose of conditional statements in Python ?\n",
        "   - the purpose of the conditional statement in python is to control the flow of a program by making decision based on certain conditions."
      ],
      "metadata": {
        "id": "BpHh-gjbIUZb"
      }
    },
    {
      "cell_type": "markdown",
      "source": [
        "12. How does the elif statement work ?\n",
        "   - in python the elif statement if statements pair up with elif and else statements to perform a series of checks.   "
      ],
      "metadata": {
        "id": "z4sm_dVxJEBz"
      }
    },
    {
      "cell_type": "markdown",
      "source": [
        "13. What is the difference between for and while loops ?\n",
        "  - a for loop is used when the number of iterations is known while a loop is used when the number of iterations is unknown."
      ],
      "metadata": {
        "id": "0WMkTje-KN9S"
      }
    },
    {
      "cell_type": "markdown",
      "source": [
        "14. Describe a scenario where a while loop is more suitable than a for loop ?  \n",
        "  - it happen when the situations where the number of iterations is not predetermined and depends on some dynamic conditions .\n",
        "\n",
        "\n",
        "\n",
        "\n",
        "\n",
        "\n",
        "\n",
        "  "
      ],
      "metadata": {
        "id": "ys2ssmcMK6J5"
      }
    },
    {
      "cell_type": "markdown",
      "source": [
        "Practical Questions"
      ],
      "metadata": {
        "id": "q36WhJA5M02a"
      }
    },
    {
      "cell_type": "markdown",
      "source": [
        "1. Write a Python program to print \"Hello, World!\""
      ],
      "metadata": {
        "id": "Tsk7iRrIM-ri"
      }
    },
    {
      "cell_type": "code",
      "source": [
        "print(\"Hello,World!\")\n"
      ],
      "metadata": {
        "colab": {
          "base_uri": "https://localhost:8080/"
        },
        "id": "2CBsvYTWE3U_",
        "outputId": "7e98ae13-46a9-4a29-9203-a6407fefafab"
      },
      "execution_count": null,
      "outputs": [
        {
          "output_type": "stream",
          "name": "stdout",
          "text": [
            "Hello,World!\n"
          ]
        }
      ]
    },
    {
      "cell_type": "markdown",
      "source": [
        "2. Write a Python program that displays your name and age."
      ],
      "metadata": {
        "id": "crNmS-d-NVIa"
      }
    },
    {
      "cell_type": "code",
      "source": [
        "name = \"Nikhil\"\n",
        "age = \"21\"\n",
        "\n",
        "print(\"name:\",name)\n",
        "print(\"age:\",age)\n"
      ],
      "metadata": {
        "colab": {
          "base_uri": "https://localhost:8080/"
        },
        "id": "VNxaBKoxqdHI",
        "outputId": "25f14475-ae23-48e0-825b-9765188b49e2"
      },
      "execution_count": null,
      "outputs": [
        {
          "output_type": "stream",
          "name": "stdout",
          "text": [
            "name: Nikhil\n",
            "age: 21\n"
          ]
        }
      ]
    },
    {
      "cell_type": "markdown",
      "source": [
        "3. Write code to print all the pre-defined keywords in Python using the keyword library."
      ],
      "metadata": {
        "id": "KxeO2oQHN9op"
      }
    },
    {
      "cell_type": "code",
      "source": [
        "help(\"keywords\")"
      ],
      "metadata": {
        "colab": {
          "base_uri": "https://localhost:8080/"
        },
        "id": "eZKxaj0PN1Tg",
        "outputId": "f8fbf447-5614-448e-b1cc-0716d9608fe6"
      },
      "execution_count": null,
      "outputs": [
        {
          "output_type": "stream",
          "name": "stdout",
          "text": [
            "\n",
            "Here is a list of the Python keywords.  Enter any keyword to get more help.\n",
            "\n",
            "False               class               from                or\n",
            "None                continue            global              pass\n",
            "True                def                 if                  raise\n",
            "and                 del                 import              return\n",
            "as                  elif                in                  try\n",
            "assert              else                is                  while\n",
            "async               except              lambda              with\n",
            "await               finally             nonlocal            yield\n",
            "break               for                 not                 \n",
            "\n"
          ]
        }
      ]
    },
    {
      "cell_type": "markdown",
      "source": [
        "4. Write a program that checks if a given word is a Python keyword."
      ],
      "metadata": {
        "id": "keV0q6PSOqr5"
      }
    },
    {
      "cell_type": "code",
      "source": [
        "\n",
        "def check_keyword(word):\n",
        "\n",
        "  if keyword.iskeyword (word):\n",
        "    print(f\"{word} is a keyword\")\n",
        "  else:\n",
        "    print(f\"{word} is not a keyword \")\n",
        "\n",
        "    check_keyword(\"for\")\n",
        "  check_keyword(\"greeks\")\n",
        "\n"
      ],
      "metadata": {
        "id": "2X3S_K-f3EOo"
      },
      "execution_count": null,
      "outputs": []
    },
    {
      "cell_type": "markdown",
      "source": [
        "5.  Create a list and tuple in Python, and demonstrate how attempting to change an element works differently\n",
        "for each."
      ],
      "metadata": {
        "id": "5zJ1UY149v-r"
      }
    },
    {
      "cell_type": "code",
      "source": [
        "# Creating a list\n",
        "my_list = [1, 2, 3, 4]\n",
        "\n",
        "# Changing an element in the list\n",
        "my_list[1] = 10  # This is allowed because lists are mutable\n",
        "\n",
        "print(\"Updated list:\", my_list)\n"
      ],
      "metadata": {
        "colab": {
          "base_uri": "https://localhost:8080/"
        },
        "id": "kp-V7ZzVCTDg",
        "outputId": "694bd4ef-66e3-40f0-99ad-c4e3a68b6720"
      },
      "execution_count": null,
      "outputs": [
        {
          "output_type": "stream",
          "name": "stdout",
          "text": [
            "Updated list: [1, 10, 3, 4]\n"
          ]
        }
      ]
    },
    {
      "cell_type": "code",
      "source": [
        "# Creating a tuple\n",
        "my_tuple = (1, 2, 3, 4)\n",
        "\n",
        "# Trying to change an element in the tuple\n",
        "try:\n",
        "    my_tuple[1] = 10  # This will raise an error because tuples are immutable\n",
        "except TypeError as e:\n",
        "    print(\"Error:\", e)\n"
      ],
      "metadata": {
        "colab": {
          "base_uri": "https://localhost:8080/"
        },
        "id": "QCqsPncCR6PI",
        "outputId": "1758b805-47ae-482e-aaf9-4a0350335ea5"
      },
      "execution_count": null,
      "outputs": [
        {
          "output_type": "stream",
          "name": "stdout",
          "text": [
            "Error: 'tuple' object does not support item assignment\n"
          ]
        }
      ]
    },
    {
      "cell_type": "markdown",
      "source": [
        "6. Write a function to demonstrate the behavior of mutable and immutable arguments."
      ],
      "metadata": {
        "id": "kRz7hkrtSeyV"
      }
    },
    {
      "cell_type": "code",
      "source": [
        "def demonstrate_mutability(immutable_arg, mutable_arg):\n",
        "    # Modifying immutable argument (it won't affect the original outside the function)\n",
        "    print(\"Original immutable_arg:\", immutable_arg)\n",
        "    immutable_arg += 10  # This creates a new object (doesn't modify the original)\n",
        "    print(\"Modified immutable_arg:\", immutable_arg)\n",
        "\n",
        "    # Modifying mutable argument (it will affect the original outside the function)\n",
        "    print(\"\\nOriginal mutable_arg:\", mutable_arg)\n",
        "    mutable_arg.append(100)  # This modifies the original list\n",
        "    print(\"Modified mutable_arg:\", mutable_arg)\n",
        "\n",
        "\n",
        "# Example usage:\n",
        "immutable_value = 5  # Immutable argument (integer)\n",
        "mutable_value = [1, 2, 3]  # Mutable argument (list)\n",
        "\n",
        "demonstrate_mutability(immutable_value, mutable_value)\n",
        "\n",
        "# Checking the values outside the function\n",
        "print(\"\\nOutside function:\")\n",
        "print(\"immutable_value:\", immutable_value)\n",
        "print(\"mutable_value:\", mutable_value)\n"
      ],
      "metadata": {
        "colab": {
          "base_uri": "https://localhost:8080/"
        },
        "id": "ojAmPeKaSXK2",
        "outputId": "c93a06be-41f4-40b7-a230-03ff8ec71736"
      },
      "execution_count": null,
      "outputs": [
        {
          "output_type": "stream",
          "name": "stdout",
          "text": [
            "Original immutable_arg: 5\n",
            "Modified immutable_arg: 15\n",
            "\n",
            "Original mutable_arg: [1, 2, 3]\n",
            "Modified mutable_arg: [1, 2, 3, 100]\n",
            "\n",
            "Outside function:\n",
            "immutable_value: 5\n",
            "mutable_value: [1, 2, 3, 100]\n"
          ]
        }
      ]
    },
    {
      "cell_type": "markdown",
      "source": [
        "8. Write a program to demonstrate the use of logical operators ."
      ],
      "metadata": {
        "id": "PEI8vtjNS7St"
      }
    },
    {
      "cell_type": "code",
      "source": [
        "def logical_operators_demo(a, b):\n",
        "    # Using 'and' logical operator\n",
        "    if a > 0 and b > 0:\n",
        "        print(f\"Both a ({a}) and b ({b}) are positive.\")\n",
        "    else:\n",
        "        print(f\"At least one of a ({a}) or b ({b}) is not positive.\")\n",
        "\n",
        "    # Using 'or' logical operator\n",
        "    if a > 0 or b > 0:\n",
        "        print(f\"At least one of a ({a}) or b ({b}) is positive.\")\n",
        "    else:\n",
        "        print(f\"Neither a ({a}) nor b ({b}) is positive.\")\n",
        "\n",
        "    # Using 'not' logical operator\n",
        "    if not (a > 0):\n",
        "        print(f\"a ({a}) is not positive.\")\n",
        "    if not (b > 0):\n",
        "        print(f\"b ({b}) is not positive.\")\n",
        "\n",
        "# Example 1: both a and b are positive\n",
        "print(\"Example 1:\")\n",
        "logical_operators_demo(5, 10)\n",
        "\n",
        "# Example 2: a is negative, b is positive\n",
        "print(\"\\nExample 2:\")\n",
        "logical_operators_demo(-5, 10)\n",
        "\n",
        "# Example 3: both a and b are negative\n",
        "print(\"\\nExample 3:\")\n",
        "logical_operators_demo(-5, -10)\n",
        "\n",
        "# Example 4: a is positive, b is zero\n",
        "print(\"\\nExample 4:\")\n",
        "logical_operators_demo(5, 0)\n",
        "\n",
        "\n"
      ],
      "metadata": {
        "colab": {
          "base_uri": "https://localhost:8080/"
        },
        "id": "iSTxwrweTIzk",
        "outputId": "8a49ce05-e15b-45e7-dd06-2fa64f6ffc3f"
      },
      "execution_count": null,
      "outputs": [
        {
          "output_type": "stream",
          "name": "stdout",
          "text": [
            "Example 1:\n",
            "Both a (5) and b (10) are positive.\n",
            "At least one of a (5) or b (10) is positive.\n",
            "\n",
            "Example 2:\n",
            "At least one of a (-5) or b (10) is not positive.\n",
            "At least one of a (-5) or b (10) is positive.\n",
            "a (-5) is not positive.\n",
            "\n",
            "Example 3:\n",
            "At least one of a (-5) or b (-10) is not positive.\n",
            "Neither a (-5) nor b (-10) is positive.\n",
            "a (-5) is not positive.\n",
            "b (-10) is not positive.\n",
            "\n",
            "Example 4:\n",
            "At least one of a (5) or b (0) is not positive.\n",
            "At least one of a (5) or b (0) is positive.\n",
            "b (0) is not positive.\n"
          ]
        }
      ]
    },
    {
      "cell_type": "markdown",
      "source": [
        "9. Write a Python program to convert user input from string to integer, float, and boolean types."
      ],
      "metadata": {
        "id": "9QiOOMyIT211"
      }
    },
    {
      "cell_type": "code",
      "source": [
        "def convert_input():\n",
        "    # Taking user input as a string\n",
        "    user_input = input(\"enter a value: \")\n",
        "\n",
        "    # Converting to integer (if possible)\n",
        "    try:\n",
        "        int_value = int(user_input)\n",
        "        print(f\"Converted to integer: {int_value}\")\n",
        "    except ValueError:\n",
        "        print(\"Cannot convert to integer. Invalid input.\")\n",
        "\n",
        "    # Converting to float (if possible)\n",
        "    try:\n",
        "        float_value = float(user_input)\n",
        "        print(f\"Converted to float: {float_value}\")\n",
        "    except ValueError:\n",
        "        print(\"Cannot convert to float. Invalid input.\")\n",
        "\n",
        "    # Converting to boolean (any non-empty string is considered True)\n",
        "    bool_value = bool(user_input)\n",
        "    print(f\"Converted to boolean: {bool_value}\")\n",
        "\n",
        "# Call the function\n",
        "convert_input()\n"
      ],
      "metadata": {
        "colab": {
          "base_uri": "https://localhost:8080/"
        },
        "id": "s1_KYTE7UES4",
        "outputId": "2233b4ae-f115-4978-fdcc-a36c06374d89"
      },
      "execution_count": null,
      "outputs": [
        {
          "output_type": "stream",
          "name": "stdout",
          "text": [
            "enter a value: 123\n",
            "Converted to integer: 123\n",
            "Converted to float: 123.0\n",
            "Converted to boolean: True\n"
          ]
        }
      ]
    },
    {
      "cell_type": "markdown",
      "source": [
        "10. Write code to demonstrate type casting with list elements."
      ],
      "metadata": {
        "id": "A4DDsXDuVFQe"
      }
    },
    {
      "cell_type": "code",
      "source": [
        "def demonstrate_type_casting():\n",
        "    # A list with different types of elements (strings, integers, etc.)\n",
        "    original_list = ['10', '20.5', 'True', '100', 'hello', '0', 'False']\n",
        "\n",
        "    # Convert the list elements to different types\n",
        "\n",
        "    # Convert all string elements to integers (where possible)\n",
        "    int_list = []\n",
        "    for element in original_list:\n",
        "        try:\n",
        "            int_list.append(int(float(element)))  # Convert to float first for cases like '20.5'\n",
        "        except ValueError:\n",
        "            int_list.append(None)  # If conversion fails, append None\n",
        "    print(\"List after converting to integers:\", int_list)\n",
        "\n",
        "    # Convert all string elements to floats (where possible)\n",
        "    float_list = []\n",
        "    for element in original_list:\n",
        "        try:\n",
        "            float_list.append(float(element))\n",
        "        except ValueError:\n",
        "            float_list.append(None)  # If conversion fails, append None\n",
        "    print(\"List after converting to floats:\", float_list)\n",
        "\n",
        "    # Convert all string elements to boolean values\n",
        "    bool_list = []\n",
        "    for element in original_list:\n",
        "        bool_list.append(bool(element))  # Non-empty strings are considered True\n",
        "    print(\"List after converting to booleans:\", bool_list)\n",
        "\n",
        "# Call the function to demonstrate\n",
        "demonstrate_type_casting()\n"
      ],
      "metadata": {
        "colab": {
          "base_uri": "https://localhost:8080/"
        },
        "id": "5gpumuz8VKpg",
        "outputId": "63fb3562-e2f4-4ebb-8156-5f99abc6902a"
      },
      "execution_count": null,
      "outputs": [
        {
          "output_type": "stream",
          "name": "stdout",
          "text": [
            "List after converting to integers: [10, 20, None, 100, None, 0, None]\n",
            "List after converting to floats: [10.0, 20.5, None, 100.0, None, 0.0, None]\n",
            "List after converting to booleans: [True, True, True, True, True, True, True]\n"
          ]
        }
      ]
    },
    {
      "cell_type": "markdown",
      "source": [
        "11.Write a program that checks if a number is positive, negative, or zero."
      ],
      "metadata": {
        "id": "B3WcPZboVhB7"
      }
    },
    {
      "cell_type": "code",
      "source": [
        "def check_number():\n",
        "    # Input from the user\n",
        "    num = float(input(\"Enter a number: \"))\n",
        "\n",
        "    # Check if the number is positive, negative, or zero\n",
        "    if num > 0:\n",
        "        print(\"The number is positive.\")\n",
        "    elif num < 0:\n",
        "        print(\"The number is negative.\")\n",
        "    else:\n",
        "        print(\"The number is zero.\")\n",
        "\n",
        "# Call the function to execute\n",
        "check_number()"
      ],
      "metadata": {
        "colab": {
          "base_uri": "https://localhost:8080/"
        },
        "id": "JwJ3yIneVepZ",
        "outputId": "3f2e9eeb-3dc2-4b29-8239-3f16f0942812"
      },
      "execution_count": null,
      "outputs": [
        {
          "output_type": "stream",
          "name": "stdout",
          "text": [
            "Enter a number: 5\n",
            "The number is positive.\n"
          ]
        }
      ]
    },
    {
      "cell_type": "markdown",
      "source": [
        "12. Write a for loop to print numbers from 1 to 10."
      ],
      "metadata": {
        "id": "2631PZk3WRfM"
      }
    },
    {
      "cell_type": "code",
      "source": [
        "# Using a for loop to print numbers from 1 to 10\n",
        "for num in range(1, 11):\n",
        "    print(num)\n"
      ],
      "metadata": {
        "colab": {
          "base_uri": "https://localhost:8080/"
        },
        "id": "UDJvuNYWV242",
        "outputId": "7ff017c0-fb2e-422b-d4ef-9124c0cf92f0"
      },
      "execution_count": null,
      "outputs": [
        {
          "output_type": "stream",
          "name": "stdout",
          "text": [
            "1\n",
            "2\n",
            "3\n",
            "4\n",
            "5\n",
            "6\n",
            "7\n",
            "8\n",
            "9\n",
            "10\n"
          ]
        }
      ]
    },
    {
      "cell_type": "markdown",
      "source": [
        "13.Write a Python program to find the sum of all even numbers between 1 and 50."
      ],
      "metadata": {
        "id": "8Nyqs5VAWjaa"
      }
    },
    {
      "cell_type": "code",
      "source": [
        "def sum_of_even_numbers():\n",
        "    # Initialize a variable to store the sum\n",
        "    total_sum = 0\n",
        "\n",
        "    # Loop through numbers from 1 to 50\n",
        "    for num in range(1, 51):\n",
        "        # Check if the number is even\n",
        "        if num % 2 == 0:\n",
        "            total_sum += num  # Add the even number to the sum\n",
        "\n",
        "    # Print the result\n",
        "    print(\"The sum of all even numbers between 1 and 50 is:\", total_sum)\n",
        "\n",
        "# Call the function\n",
        "sum_of_even_numbers()\n"
      ],
      "metadata": {
        "colab": {
          "base_uri": "https://localhost:8080/"
        },
        "id": "fLUtrKURWefd",
        "outputId": "92d69bac-f20b-402e-aeaa-e3c0c6825b4a"
      },
      "execution_count": null,
      "outputs": [
        {
          "output_type": "stream",
          "name": "stdout",
          "text": [
            "The sum of all even numbers between 1 and 50 is: 650\n"
          ]
        }
      ]
    },
    {
      "cell_type": "markdown",
      "source": [
        "14. Write a program to reverse a string using a while loop."
      ],
      "metadata": {
        "id": "AYD_z3CoWxZq"
      }
    },
    {
      "cell_type": "code",
      "source": [
        "def reverse_string(input_string):\n",
        "    # Initialize an empty string to store the reversed string\n",
        "    reversed_string = \"\"\n",
        "\n",
        "    # Set the index to the last character of the string\n",
        "    index = len(input_string) - 1\n",
        "\n",
        "    # Loop through the string in reverse order using the while loop\n",
        "    while index >= 0:\n",
        "        reversed_string += input_string[index]  # Add the current character to the reversed string\n",
        "        index -= 1  # Move to the previous character\n",
        "\n",
        "    # Return the reversed string\n",
        "    return reversed_string\n",
        "\n",
        "# Input string\n",
        "input_string = input(\"Enter a string to reverse:\")\n",
        "\n",
        "# Call the function and print the reversed string\n",
        "print(\"Reversed string:\", reverse_string(input_string))\n"
      ],
      "metadata": {
        "colab": {
          "base_uri": "https://localhost:8080/"
        },
        "id": "BEOU-FiMWsoe",
        "outputId": "658617de-214f-4db3-bcdc-d36e004ac513"
      },
      "execution_count": null,
      "outputs": [
        {
          "output_type": "stream",
          "name": "stdout",
          "text": [
            "Enter a string to reverse:hello\n",
            "Reversed string: olleh\n"
          ]
        }
      ]
    },
    {
      "cell_type": "markdown",
      "source": [
        "15.Write a Python program to calculate the factorial of a number provided by the user using a while loop."
      ],
      "metadata": {
        "id": "FvY5K7B_XIEm"
      }
    },
    {
      "cell_type": "code",
      "source": [
        "def calculate_factorial():\n",
        "    # Taking input from the user\n",
        "    num = int(input(\"Enter a number to calculate its factorial: \"))\n",
        "\n",
        "    # Factorial is not defined for negative numbers\n",
        "    if num < 0:\n",
        "        print(\"Factorial is not defined for negative numbers.\")\n",
        "        return\n",
        "\n",
        "    # Initialize the result to 1 (as factorial starts from 1)\n",
        "    result = 1\n",
        "\n",
        "    # Initialize a counter variable for the while loop\n",
        "    i = 1\n",
        "\n",
        "    # Using while loop to calculate factorial\n",
        "    while i <= num:\n",
        "        result *= i  # Multiply result by i\n",
        "        i += 1  # Increment i\n",
        "\n",
        "    # Output the factorial result\n",
        "    print(f\"The factorial of {num} is: {result}\")\n",
        "\n",
        "# Call the function to calculate factorial\n",
        "calculate_factorial()\n"
      ],
      "metadata": {
        "colab": {
          "base_uri": "https://localhost:8080/"
        },
        "id": "wZtbcpdkXBGx",
        "outputId": "20f764ea-6c49-4d13-93a3-ae2e19b6d155"
      },
      "execution_count": null,
      "outputs": [
        {
          "output_type": "stream",
          "name": "stdout",
          "text": [
            "Enter a number to calculate its factorial: 5\n",
            "The factorial of 5 is: 120\n"
          ]
        }
      ]
    }
  ]
}